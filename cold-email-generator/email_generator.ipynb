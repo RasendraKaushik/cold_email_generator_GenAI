{
 "cells": [
  {
   "cell_type": "code",
   "execution_count": 1,
   "id": "9d1dbc6a-00a5-41ec-97fb-ab977b800ed8",
   "metadata": {},
   "outputs": [],
   "source": [
    "from langchain_groq import ChatGroq"
   ]
  },
  {
   "cell_type": "code",
   "execution_count": 2,
   "id": "0de00fc6-1ec7-4d58-8fbf-d5c4e7c14d93",
   "metadata": {},
   "outputs": [
    {
     "name": "stdout",
     "output_type": "stream",
     "text": [
      "The first person to land on the moon was Neil Armstrong. He stepped onto the lunar surface on July 20, 1969, as part of the Apollo 11 mission.\n"
     ]
    }
   ],
   "source": [
    "llm = ChatGroq(\n",
    "    temperature=0, \n",
    "    groq_api_key='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', \n",
    "    model_name=\"llama-3.1-70b-versatile\"\n",
    ")\n",
    "response = llm.invoke(\"The first person to land on moon was ...\")\n",
    "print(response.content)"
   ]
  },
  {
   "cell_type": "code",
   "execution_count": 10,
   "id": "2ca3f910-3895-448b-9b9b-f2a6b0c076d8",
   "metadata": {},
   "outputs": [
    {
     "name": "stdout",
     "output_type": "stream",
     "text": [
      "Apply for Manager Software Engineering, ITC\n",
      "\n",
      "Search JobsSkip navigationSearch JobsNIKE, INC. JOBSContract JobsJoin The Talent CommunityLife @ NikeOverviewBenefitsBrandsOverviewJordanConverseTeamsOverviewAdministrative SupportAdvanced InnovationAir Manufacturing InnovationAviationCommunicationsCustomer ServiceDesignDigitalFacilitiesFinance & AccountingGovernment & Public AffairsHuman ResourcesInsights & AnalyticsLegalManufacturing & EngineeringMarketingMerchandisingPlanningPrivacyProcurementProduct Creation, Development & ManagementRetail CorporateRetail StoresSalesSocial & Community ImpactSports MarketingStrategic PlanningSupply Chain, Distribution & LogisticsSustainabilityTechnologyLocationsOverviewNike WHQNike New York HQEHQ: Hilversum, The NetherlandsELC: Laakdal, BelgiumGreater China HQDiversity, Equity & InclusionOverviewMilitary InclusionDisability InclusionIndigenous InclusionInternshipsTechnologyManager Software Engineering, ITCKarnataka, IndiaBecome a Part of the NIKE, Inc. TeamNIKE, Inc. does more than outfit the world’s best athletes. It is a place to explore potential, obliterate boundaries and push out the edges of what can be. The company looks for people who can grow, think, dream and create. Its culture thrives by embracing diversity and rewarding imagination. The brand seeks achievers, leaders and visionaries. At NIKE, Inc. it’s about each person bringing skills and passion to a challenging and constantly evolving game.NIKE is a technology company. From our flagship website and five-star mobile apps to developing products, managing big data and providing leading edge engineering and systems support, our teams at NIKE Global Technology exist to revolutionize the future at the confluence of tech and sport. We invest and develop advances in technology and employ the most creative people in the world, and then give them the support to constantly innovate, iterate and serve consumers more directly and personally.  Our teams are innovative, diverse, multidisciplinary and collaborative, taking technology into the future and bringing the world with it.WHO YOU’LL WORK WITHThis role is part of the Nike’s Content Technology team within Marketing Technology team, working very closely with the globally distributed Engineering and Product teams. This role will roll up to the Director Software Engineering based out of Nike India Tech Centre.WHO WE ARE LOOKING FORWe are looking for experienced Technology focused and hands on Engineering Manager to join our team in Bengaluru, India.The engineering manager supports a squad of world class engineers, manages delivery priorities, and ensures high quality and well architected solutions are delivered on time and within budget.We are looking forAcademic background in computer science (BS or MS) or equivalent work experience.A minimum of 5 years management experience (as direct people manager or equivalent of managing engineers) of high performing software engineering teams and total 12+ years of experience in software development.Leadership in a highly collaborative, multi-discipline development team environment.Exposure to backend development skills in Java/Spring.Experience of building microservices using cloud services to build an integrated application (AWS preferred).Exposure to tuning relational database (MySQL) and non-relation DB (MongoDB, Dynamo DB).Experience with building data-intensive web applications using modern UI frameworks like React or Polymer.Experience working with Product Managers, other development teams, and technology platform teams to accelerate software development and increase quality.Experience in goal settings, mentoring hiring and ramping up the teams.Comfortable working within an exciting fast-paced environment by reducing ambiguity and building trust with the team.Willingness to explore new technologies and creative solutions.Strong at estimating work, planning, organization, and implementing complex software projects.Experience with implementing CI/CD and leading teams with DevOps responsibilities of deploying and supporting the software in production.Comfortable working in a fast-paced, results-oriented environment.Comfortable working with globally distributed and diverse teams.Excellent verbal and written communication and collaboration skills to effectively communicate with both business and technical teams.WHAT YOU’LL WORK ONProvide engineering leadership and best practices to continuously build new platforms and deliver working software.Collaborating with product team members at Nike World Head Quarter and India Tech center to design, develop, and deploy a highly scalable digital asset management system and services. Collaborate with upstream and downstream technical teams across Geos to develop integrations to provide a seamless flow of our marketing assets from planning to delivery.  Participating in the construction of new features and identifying areas for improvement proactively.The squad you lead will work on innovating, architecting, designing, and implementing highly available, scalable systems, focusing on highly visible marketing initiatives.NIKE, Inc. is a growth company that looks for team members to grow with it. Nike offers a generous total rewards package, casual work environment, a diverse and inclusive culture, and an electric atmosphere for professional development. No matter the location, or the role, every Nike employee shares one galvanizing mission: To bring inspiration and innovation to every athlete* in the world.NIKE, Inc. is committed to employing a diverse workforce. Qualified applicants will receive consideration without regard to race, color, religion, sex, national origin, age, sexual orientation, gender identity, gender expression, veteran status, or disability.How We HireAt NIKE, Inc. we promise to provide a premium, inclusive, compelling and authentic candidate experience. Delivering on this promise means we allow you to be at your best — and to do that, you need to understand how the hiring process works. Transparency is key.\n",
      "\n",
      "* This overview explains our hiring process for corporate roles. Note there may be different hiring steps involved for non-corporate roles.Start nowBenefitsWhether it’s transportation or financial health, we continually invest in our employees to help them achieve greatness — inside and outside of work. All who work here should be able to realize their full potential.Employee Assistance ProgramHolidaysMedical PlanPaid Time Off (PTO)Product DiscountsLearn moreFIND A STOREBECOME A MEMBERSIGN UP FOR EMAILSEND US FEEDBACKSTUDENT DISCOUNTSGET HELPGET HELPOrder StatusDeliveryReturnsPayment OptionsContact Us On Nike.com InquiriesContact Us On All Other InquiriesABOUT NIKEABOUT NIKENewsCareersInvestorsSustainabilityIndia© 2024 Nike, Inc. All Rights ReservedGuidesNike AdaptNike Air MaxNike FlyleatherNike PegasusNike Zoom FlyNike AirNike FlyEaseNike FreeNike ReactNike ZoomXNike Air Force 1Nike FlyknitNike JoyrideNike VaporflyTerms of SaleTerms of UseNike Privacy Policy\n"
     ]
    }
   ],
   "source": [
    "from langchain_community.document_loaders import WebBaseLoader\n",
    "\n",
    "loader = WebBaseLoader(\"https://jobs.nike.com/job/R-37695?from=job%20search%20funnel\")\n",
    "page_data = loader.load().pop().page_content\n",
    "print(page_data)"
   ]
  },
  {
   "cell_type": "code",
   "execution_count": 15,
   "id": "fc998ad9-f1b5-4204-ac05-583711a45bc6",
   "metadata": {
    "scrolled": true
   },
   "outputs": [
    {
     "data": {
      "text/plain": [
       "str"
      ]
     },
     "execution_count": 15,
     "metadata": {},
     "output_type": "execute_result"
    }
   ],
   "source": [
    "from langchain_core.prompts import PromptTemplate\n",
    "\n",
    "prompt_extract = PromptTemplate.from_template(\n",
    "        \"\"\"\n",
    "        ### SCRAPED TEXT FROM WEBSITE:\n",
    "        {page_data}\n",
    "        ### INSTRUCTION:\n",
    "        The scraped text is from the career's page of a website.\n",
    "        Your job is to extract the job postings and return them in JSON format containing the \n",
    "        following keys: `role`, `experience`, `skills` and `description`.\n",
    "        Only return the valid JSON.\n",
    "        ### VALID JSON (NO PREAMBLE):    \n",
    "        \"\"\"\n",
    ")\n",
    "\n",
    "chain_extract = prompt_extract | llm \n",
    "res = chain_extract.invoke(input={'page_data':page_data})\n",
    "type(res.content)"
   ]
  },
  {
   "cell_type": "code",
   "execution_count": 16,
   "id": "8c0d4d47-b24e-4165-a1ad-da37789d3bb4",
   "metadata": {},
   "outputs": [
    {
     "data": {
      "text/plain": [
       "{'role': 'Manager Software Engineering, ITC',\n",
       " 'experience': '12+ years of experience in software development, 5 years management experience',\n",
       " 'skills': ['Academic background in computer science (BS or MS) or equivalent work experience',\n",
       "  'Leadership in a highly collaborative, multi-discipline development team environment',\n",
       "  'Exposure to backend development skills in Java/Spring',\n",
       "  'Experience of building microservices using cloud services to build an integrated application (AWS preferred)',\n",
       "  'Exposure to tuning relational database (MySQL) and non-relation DB (MongoDB, Dynamo DB)',\n",
       "  'Experience with building data-intensive web applications using modern UI frameworks like React or Polymer',\n",
       "  'Experience working with Product Managers, other development teams, and technology platform teams to accelerate software development and increase quality',\n",
       "  'Experience in goal settings, mentoring hiring and ramping up the teams',\n",
       "  'Comfortable working within an exciting fast-paced environment by reducing ambiguity and building trust with the team',\n",
       "  'Willingness to explore new technologies and creative solutions',\n",
       "  'Strong at estimating work, planning, organization, and implementing complex software projects',\n",
       "  'Experience with implementing CI/CD and leading teams with DevOps responsibilities of deploying and supporting the software in production',\n",
       "  'Comfortable working in a fast-paced, results-oriented environment',\n",
       "  'Comfortable working with globally distributed and diverse teams',\n",
       "  'Excellent verbal and written communication and collaboration skills to effectively communicate with both business and technical teams'],\n",
       " 'description': 'Provide engineering leadership and best practices to continuously build new platforms and deliver working software. Collaborating with product team members at Nike World Head Quarter and India Tech center to design, develop, and deploy a highly scalable digital asset management system and services. Collaborate with upstream and downstream technical teams across Geos to develop integrations to provide a seamless flow of our marketing assets from planning to delivery. Participating in the construction of new features and identifying areas for improvement proactively. The squad you lead will work on innovating, architecting, designing, and implementing highly available, scalable systems, focusing on highly visible marketing initiatives.'}"
      ]
     },
     "execution_count": 16,
     "metadata": {},
     "output_type": "execute_result"
    }
   ],
   "source": [
    "from langchain_core.output_parsers import JsonOutputParser\n",
    "\n",
    "json_parser = JsonOutputParser()\n",
    "json_res = json_parser.parse(res.content)\n",
    "json_res"
   ]
  },
  {
   "cell_type": "code",
   "execution_count": 13,
   "id": "b6de2a7f-f471-4271-9f51-487c8d9d58ac",
   "metadata": {},
   "outputs": [
    {
     "data": {
      "text/plain": [
       "dict"
      ]
     },
     "execution_count": 13,
     "metadata": {},
     "output_type": "execute_result"
    }
   ],
   "source": [
    "type(json_res)"
   ]
  },
  {
   "cell_type": "code",
   "execution_count": 17,
   "id": "aca685c7-6767-4cd9-a39c-598f1ee38443",
   "metadata": {},
   "outputs": [
    {
     "data": {
      "text/html": [
       "<div>\n",
       "<style scoped>\n",
       "    .dataframe tbody tr th:only-of-type {\n",
       "        vertical-align: middle;\n",
       "    }\n",
       "\n",
       "    .dataframe tbody tr th {\n",
       "        vertical-align: top;\n",
       "    }\n",
       "\n",
       "    .dataframe thead th {\n",
       "        text-align: right;\n",
       "    }\n",
       "</style>\n",
       "<table border=\"1\" class=\"dataframe\">\n",
       "  <thead>\n",
       "    <tr style=\"text-align: right;\">\n",
       "      <th></th>\n",
       "      <th>Techstack</th>\n",
       "      <th>Links</th>\n",
       "    </tr>\n",
       "  </thead>\n",
       "  <tbody>\n",
       "    <tr>\n",
       "      <th>0</th>\n",
       "      <td>React, Node.js, MongoDB</td>\n",
       "      <td>https://example.com/react-portfolio</td>\n",
       "    </tr>\n",
       "    <tr>\n",
       "      <th>1</th>\n",
       "      <td>Angular,.NET, SQL Server</td>\n",
       "      <td>https://example.com/angular-portfolio</td>\n",
       "    </tr>\n",
       "    <tr>\n",
       "      <th>2</th>\n",
       "      <td>Vue.js, Ruby on Rails, PostgreSQL</td>\n",
       "      <td>https://example.com/vue-portfolio</td>\n",
       "    </tr>\n",
       "    <tr>\n",
       "      <th>3</th>\n",
       "      <td>Python, Django, MySQL</td>\n",
       "      <td>https://example.com/python-portfolio</td>\n",
       "    </tr>\n",
       "    <tr>\n",
       "      <th>4</th>\n",
       "      <td>Java, Spring Boot, Oracle</td>\n",
       "      <td>https://example.com/java-portfolio</td>\n",
       "    </tr>\n",
       "    <tr>\n",
       "      <th>5</th>\n",
       "      <td>Flutter, Firebase, GraphQL</td>\n",
       "      <td>https://example.com/flutter-portfolio</td>\n",
       "    </tr>\n",
       "    <tr>\n",
       "      <th>6</th>\n",
       "      <td>WordPress, PHP, MySQL</td>\n",
       "      <td>https://example.com/wordpress-portfolio</td>\n",
       "    </tr>\n",
       "    <tr>\n",
       "      <th>7</th>\n",
       "      <td>Magento, PHP, MySQL</td>\n",
       "      <td>https://example.com/magento-portfolio</td>\n",
       "    </tr>\n",
       "    <tr>\n",
       "      <th>8</th>\n",
       "      <td>React Native, Node.js, MongoDB</td>\n",
       "      <td>https://example.com/react-native-portfolio</td>\n",
       "    </tr>\n",
       "    <tr>\n",
       "      <th>9</th>\n",
       "      <td>iOS, Swift, Core Data</td>\n",
       "      <td>https://example.com/ios-portfolio</td>\n",
       "    </tr>\n",
       "    <tr>\n",
       "      <th>10</th>\n",
       "      <td>Android, Java, Room Persistence</td>\n",
       "      <td>https://example.com/android-portfolio</td>\n",
       "    </tr>\n",
       "    <tr>\n",
       "      <th>11</th>\n",
       "      <td>Kotlin, Android, Firebase</td>\n",
       "      <td>https://example.com/kotlin-android-portfolio</td>\n",
       "    </tr>\n",
       "    <tr>\n",
       "      <th>12</th>\n",
       "      <td>Android TV, Kotlin, Android NDK</td>\n",
       "      <td>https://example.com/android-tv-portfolio</td>\n",
       "    </tr>\n",
       "    <tr>\n",
       "      <th>13</th>\n",
       "      <td>iOS, Swift, ARKit</td>\n",
       "      <td>https://example.com/ios-ar-portfolio</td>\n",
       "    </tr>\n",
       "    <tr>\n",
       "      <th>14</th>\n",
       "      <td>Cross-platform, Xamarin, Azure</td>\n",
       "      <td>https://example.com/xamarin-portfolio</td>\n",
       "    </tr>\n",
       "    <tr>\n",
       "      <th>15</th>\n",
       "      <td>Backend, Kotlin, Spring Boot</td>\n",
       "      <td>https://example.com/kotlin-backend-portfolio</td>\n",
       "    </tr>\n",
       "    <tr>\n",
       "      <th>16</th>\n",
       "      <td>Frontend, TypeScript, Angular</td>\n",
       "      <td>https://example.com/typescript-frontend-portfolio</td>\n",
       "    </tr>\n",
       "    <tr>\n",
       "      <th>17</th>\n",
       "      <td>Full-stack, JavaScript, Express.js</td>\n",
       "      <td>https://example.com/full-stack-js-portfolio</td>\n",
       "    </tr>\n",
       "    <tr>\n",
       "      <th>18</th>\n",
       "      <td>Machine Learning, Python, TensorFlow</td>\n",
       "      <td>https://example.com/ml-python-portfolio</td>\n",
       "    </tr>\n",
       "    <tr>\n",
       "      <th>19</th>\n",
       "      <td>DevOps, Jenkins, Docker</td>\n",
       "      <td>https://example.com/devops-portfolio</td>\n",
       "    </tr>\n",
       "  </tbody>\n",
       "</table>\n",
       "</div>"
      ],
      "text/plain": [
       "                               Techstack  \\\n",
       "0                React, Node.js, MongoDB   \n",
       "1               Angular,.NET, SQL Server   \n",
       "2      Vue.js, Ruby on Rails, PostgreSQL   \n",
       "3                  Python, Django, MySQL   \n",
       "4              Java, Spring Boot, Oracle   \n",
       "5             Flutter, Firebase, GraphQL   \n",
       "6                  WordPress, PHP, MySQL   \n",
       "7                    Magento, PHP, MySQL   \n",
       "8         React Native, Node.js, MongoDB   \n",
       "9                  iOS, Swift, Core Data   \n",
       "10       Android, Java, Room Persistence   \n",
       "11             Kotlin, Android, Firebase   \n",
       "12       Android TV, Kotlin, Android NDK   \n",
       "13                     iOS, Swift, ARKit   \n",
       "14        Cross-platform, Xamarin, Azure   \n",
       "15          Backend, Kotlin, Spring Boot   \n",
       "16         Frontend, TypeScript, Angular   \n",
       "17    Full-stack, JavaScript, Express.js   \n",
       "18  Machine Learning, Python, TensorFlow   \n",
       "19               DevOps, Jenkins, Docker   \n",
       "\n",
       "                                                Links  \n",
       "0                 https://example.com/react-portfolio  \n",
       "1               https://example.com/angular-portfolio  \n",
       "2                   https://example.com/vue-portfolio  \n",
       "3                https://example.com/python-portfolio  \n",
       "4                  https://example.com/java-portfolio  \n",
       "5               https://example.com/flutter-portfolio  \n",
       "6             https://example.com/wordpress-portfolio  \n",
       "7               https://example.com/magento-portfolio  \n",
       "8          https://example.com/react-native-portfolio  \n",
       "9                   https://example.com/ios-portfolio  \n",
       "10              https://example.com/android-portfolio  \n",
       "11       https://example.com/kotlin-android-portfolio  \n",
       "12           https://example.com/android-tv-portfolio  \n",
       "13               https://example.com/ios-ar-portfolio  \n",
       "14              https://example.com/xamarin-portfolio  \n",
       "15       https://example.com/kotlin-backend-portfolio  \n",
       "16  https://example.com/typescript-frontend-portfolio  \n",
       "17        https://example.com/full-stack-js-portfolio  \n",
       "18            https://example.com/ml-python-portfolio  \n",
       "19               https://example.com/devops-portfolio  "
      ]
     },
     "execution_count": 17,
     "metadata": {},
     "output_type": "execute_result"
    }
   ],
   "source": [
    "import pandas as pd\n",
    "\n",
    "df = pd.read_csv(\"my_portfolio.csv\")\n",
    "df"
   ]
  },
  {
   "cell_type": "code",
   "execution_count": 18,
   "id": "d8d50f68-8657-455f-89df-2f4376cac286",
   "metadata": {},
   "outputs": [],
   "source": [
    "import uuid\n",
    "import chromadb\n",
    "\n",
    "client = chromadb.PersistentClient('vectorstore')\n",
    "collection = client.get_or_create_collection(name=\"portfolio\")\n",
    "\n",
    "if not collection.count():\n",
    "    for _, row in df.iterrows():\n",
    "        collection.add(documents=row[\"Techstack\"],\n",
    "                       metadatas={\"links\": row[\"Links\"]},\n",
    "                       ids=[str(uuid.uuid4())])"
   ]
  },
  {
   "cell_type": "code",
   "execution_count": 33,
   "id": "df0f8898-879c-4c0c-94bc-9c174a467654",
   "metadata": {},
   "outputs": [
    {
     "data": {
      "text/plain": [
       "[[{'links': 'https://example.com/ml-python-portfolio'}],\n",
       " [{'links': 'https://example.com/devops-portfolio'}],\n",
       " [{'links': 'https://example.com/kotlin-backend-portfolio'}],\n",
       " [{'links': 'https://example.com/devops-portfolio'}],\n",
       " [{'links': 'https://example.com/react-portfolio'}],\n",
       " [{'links': 'https://example.com/react-portfolio'}],\n",
       " [{'links': 'https://example.com/xamarin-portfolio'}],\n",
       " [{'links': 'https://example.com/ml-python-portfolio'}],\n",
       " [{'links': 'https://example.com/android-portfolio'}],\n",
       " [{'links': 'https://example.com/magento-portfolio'}],\n",
       " [{'links': 'https://example.com/ml-python-portfolio'}],\n",
       " [{'links': 'https://example.com/devops-portfolio'}],\n",
       " [{'links': 'https://example.com/ml-python-portfolio'}],\n",
       " [{'links': 'https://example.com/xamarin-portfolio'}],\n",
       " [{'links': 'https://example.com/ml-python-portfolio'}]]"
      ]
     },
     "execution_count": 33,
     "metadata": {},
     "output_type": "execute_result"
    }
   ],
   "source": [
    "links = collection.query(query_texts=job['skills'], n_results=1).get('metadatas', [])\n",
    "links"
   ]
  },
  {
   "cell_type": "code",
   "execution_count": 26,
   "id": "c1590283-3939-4dd5-96fc-8225d54eaf58",
   "metadata": {},
   "outputs": [
    {
     "data": {
      "text/plain": [
       "{'role': 'Manager Software Engineering, ITC',\n",
       " 'experience': '12+ years of experience in software development, 5 years management experience',\n",
       " 'skills': ['Academic background in computer science (BS or MS) or equivalent work experience',\n",
       "  'Leadership in a highly collaborative, multi-discipline development team environment',\n",
       "  'Exposure to backend development skills in Java/Spring',\n",
       "  'Experience of building microservices using cloud services to build an integrated application (AWS preferred)',\n",
       "  'Exposure to tuning relational database (MySQL) and non-relation DB (MongoDB, Dynamo DB)',\n",
       "  'Experience with building data-intensive web applications using modern UI frameworks like React or Polymer',\n",
       "  'Experience working with Product Managers, other development teams, and technology platform teams to accelerate software development and increase quality',\n",
       "  'Experience in goal settings, mentoring hiring and ramping up the teams',\n",
       "  'Comfortable working within an exciting fast-paced environment by reducing ambiguity and building trust with the team',\n",
       "  'Willingness to explore new technologies and creative solutions',\n",
       "  'Strong at estimating work, planning, organization, and implementing complex software projects',\n",
       "  'Experience with implementing CI/CD and leading teams with DevOps responsibilities of deploying and supporting the software in production',\n",
       "  'Comfortable working in a fast-paced, results-oriented environment',\n",
       "  'Comfortable working with globally distributed and diverse teams',\n",
       "  'Excellent verbal and written communication and collaboration skills to effectively communicate with both business and technical teams'],\n",
       " 'description': 'Provide engineering leadership and best practices to continuously build new platforms and deliver working software. Collaborating with product team members at Nike World Head Quarter and India Tech center to design, develop, and deploy a highly scalable digital asset management system and services. Collaborate with upstream and downstream technical teams across Geos to develop integrations to provide a seamless flow of our marketing assets from planning to delivery. Participating in the construction of new features and identifying areas for improvement proactively. The squad you lead will work on innovating, architecting, designing, and implementing highly available, scalable systems, focusing on highly visible marketing initiatives.'}"
      ]
     },
     "execution_count": 26,
     "metadata": {},
     "output_type": "execute_result"
    }
   ],
   "source": [
    "job"
   ]
  },
  {
   "cell_type": "code",
   "execution_count": 27,
   "id": "23c73ae0-7d30-4133-98c8-9783a2ab0efb",
   "metadata": {},
   "outputs": [
    {
     "data": {
      "text/plain": [
       "['Academic background in computer science (BS or MS) or equivalent work experience',\n",
       " 'Leadership in a highly collaborative, multi-discipline development team environment',\n",
       " 'Exposure to backend development skills in Java/Spring',\n",
       " 'Experience of building microservices using cloud services to build an integrated application (AWS preferred)',\n",
       " 'Exposure to tuning relational database (MySQL) and non-relation DB (MongoDB, Dynamo DB)',\n",
       " 'Experience with building data-intensive web applications using modern UI frameworks like React or Polymer',\n",
       " 'Experience working with Product Managers, other development teams, and technology platform teams to accelerate software development and increase quality',\n",
       " 'Experience in goal settings, mentoring hiring and ramping up the teams',\n",
       " 'Comfortable working within an exciting fast-paced environment by reducing ambiguity and building trust with the team',\n",
       " 'Willingness to explore new technologies and creative solutions',\n",
       " 'Strong at estimating work, planning, organization, and implementing complex software projects',\n",
       " 'Experience with implementing CI/CD and leading teams with DevOps responsibilities of deploying and supporting the software in production',\n",
       " 'Comfortable working in a fast-paced, results-oriented environment',\n",
       " 'Comfortable working with globally distributed and diverse teams',\n",
       " 'Excellent verbal and written communication and collaboration skills to effectively communicate with both business and technical teams']"
      ]
     },
     "execution_count": 27,
     "metadata": {},
     "output_type": "execute_result"
    }
   ],
   "source": [
    "job = json_res\n",
    "job['skills']"
   ]
  },
  {
   "cell_type": "code",
   "execution_count": 28,
   "id": "de1ee4c6-4d6f-4693-9bad-41ccf6c7f2ad",
   "metadata": {},
   "outputs": [
    {
     "name": "stdout",
     "output_type": "stream",
     "text": [
      "Subject: Expert Software Engineering Solutions for Nike's Digital Asset Management System\n",
      "\n",
      "Dear Hiring Manager,\n",
      "\n",
      "I came across the job description for the Manager Software Engineering, ITC role at Nike, and I'm excited to introduce AtliQ, an AI & Software Consulting company that can help you achieve your goals. With our expertise in software development, we can provide engineering leadership and best practices to continuously build new platforms and deliver working software.\n",
      "\n",
      "Our team has extensive experience in building microservices using cloud services, specifically AWS, and has expertise in backend development skills in Java/Spring. We're also well-versed in tuning relational databases (MySQL) and non-relational DB (MongoDB, Dynamo DB). Our experience in building data-intensive web applications using modern UI frameworks like React or Polymer aligns perfectly with your requirements.\n",
      "\n",
      "At AtliQ, we've worked on numerous projects that demonstrate our capabilities in software engineering. Some of our notable projects include:\n",
      "\n",
      "* [https://example.com/java-portfolio](https://example.com/java-portfolio) - A showcase of our expertise in Java development, which aligns with your requirements for backend development skills in Java/Spring.\n",
      "* [https://example.com/react-portfolio](https://example.com/react-portfolio) - A demonstration of our experience in building data-intensive web applications using modern UI frameworks like React.\n",
      "* [https://example.com/devops-portfolio](https://example.com/devops-portfolio) - A showcase of our expertise in DevOps, which includes implementing CI/CD and leading teams with DevOps responsibilities of deploying and supporting software in production.\n",
      "\n",
      "We understand the importance of collaboration and communication in software development. Our team is comfortable working in a fast-paced, results-oriented environment and has excellent verbal and written communication and collaboration skills to effectively communicate with both business and technical teams.\n",
      "\n",
      "I'd love to discuss how AtliQ can help Nike achieve its goals in software engineering. Please let me know if you're interested in scheduling a call to explore further.\n",
      "\n",
      "Best regards,\n",
      "\n",
      "Mohan\n",
      "Business Development Executive\n",
      "AtliQ\n"
     ]
    }
   ],
   "source": [
    "prompt_email = PromptTemplate.from_template(\n",
    "        \"\"\"\n",
    "        ### JOB DESCRIPTION:\n",
    "        {job_description}\n",
    "        \n",
    "        ### INSTRUCTION:\n",
    "        You are Rasendra, a business development executive at RASENDRA_COMPANY. RASENDRA_COMPANY is an AI & Software Consulting company dedicated to facilitating\n",
    "        the seamless integration of business processes through automated tools. \n",
    "        Over our experience, we have empowered numerous enterprises with tailored solutions, fostering scalability, \n",
    "        process optimization, cost reduction, and heightened overall efficiency. \n",
    "        Your job is to write a cold email to the client regarding the job mentioned above describing the capability of AtliQ \n",
    "        in fulfilling their needs.\n",
    "        Also add the most relevant ones from the following links to showcase RASENDRA_COMPANY's portfolio: {link_list}\n",
    "        Remember you are Rasendra, BDE at RASENDRA_COMPANY. \n",
    "        Do not provide a preamble.\n",
    "        ### EMAIL (NO PREAMBLE):\n",
    "        \n",
    "        \"\"\"\n",
    "        )\n",
    "\n",
    "chain_email = prompt_email | llm\n",
    "res = chain_email.invoke({\"job_description\": str(job), \"link_list\": links})\n",
    "print(res.content)"
   ]
  }
 ],
 "metadata": {
  "kernelspec": {
   "display_name": "Python 3 (ipykernel)",
   "language": "python",
   "name": "python3"
  },
  "language_info": {
   "codemirror_mode": {
    "name": "ipython",
    "version": 3
   },
   "file_extension": ".py",
   "mimetype": "text/x-python",
   "name": "python",
   "nbconvert_exporter": "python",
   "pygments_lexer": "ipython3",
   "version": "3.12.6"
  }
 },
 "nbformat": 4,
 "nbformat_minor": 5
}
